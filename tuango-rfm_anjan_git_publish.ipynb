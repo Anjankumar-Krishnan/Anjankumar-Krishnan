{
 "cells": [
  {
   "cell_type": "markdown",
   "metadata": {},
   "source": [
    "# Tuango - RFM Analysis for Mobile App Push Messaging\n",
    "\n",
    "A recency-frequency-monetary (RFM) model uses a customer's past purchasing behaviour (metrics of days since last purchase, frequency of purchases and money spent) to target future marketing efforts only at those customers who are most likely to make a purchase and thus maximize return on the marketing expenditure.\n",
    "\n",
    "## Goal\n",
    "\n",
    "Tuango is a company in China offering deals on products and services (like Groupon). They are interested in a RFM approach on who to target out of their customer base of 278780 people, to give 3 Karaoke deals priced at 129RMB, 209RMB and 259RMB. Calculate expected profit and return on marketing expenditure (ROME) of 5 variants of RFM approaches compared to a baseline method where customers are not targeted.\n",
    "\n",
    "\n",
    "## The Data\n",
    "(courtesy Vincent Nijs - Rady School of Management - University of California San Diego)\n",
    "\n",
    ":: Tuango's fee was 50% of the deal price <br>\n",
    ":: Tuango has determined that the cost of SMS-ing the deals to a single customer is 2.5RMB, which was estimated by a drop in customer lifetime value times the probabality of a customer blocking a deal message (i.e., customer annoyance on seeing a deal message and its associated impact on the lifetime value of that customer) <br>"
   ]
  },
  {
   "cell_type": "code",
   "execution_count": 16,
   "metadata": {},
   "outputs": [
    {
     "data": {
      "text/html": [
       "<div>\n",
       "<style scoped>\n",
       "    .dataframe tbody tr th:only-of-type {\n",
       "        vertical-align: middle;\n",
       "    }\n",
       "\n",
       "    .dataframe tbody tr th {\n",
       "        vertical-align: top;\n",
       "    }\n",
       "\n",
       "    .dataframe thead th {\n",
       "        text-align: right;\n",
       "    }\n",
       "</style>\n",
       "<table border=\"1\" class=\"dataframe\">\n",
       "  <thead>\n",
       "    <tr style=\"text-align: right;\">\n",
       "      <th></th>\n",
       "      <th>userid</th>\n",
       "      <th>recency</th>\n",
       "      <th>frequency</th>\n",
       "      <th>monetary</th>\n",
       "      <th>rfm_iq_pre</th>\n",
       "      <th>buyer</th>\n",
       "      <th>ordersize</th>\n",
       "      <th>platform</th>\n",
       "      <th>category</th>\n",
       "      <th>mobile_os</th>\n",
       "    </tr>\n",
       "  </thead>\n",
       "  <tbody>\n",
       "    <tr>\n",
       "      <th>0</th>\n",
       "      <td>U12617430</td>\n",
       "      <td>309</td>\n",
       "      <td>7</td>\n",
       "      <td>39.80</td>\n",
       "      <td>514</td>\n",
       "      <td>no</td>\n",
       "      <td>0.0</td>\n",
       "      <td>App</td>\n",
       "      <td>3</td>\n",
       "      <td>android</td>\n",
       "    </tr>\n",
       "    <tr>\n",
       "      <th>1</th>\n",
       "      <td>U63302737</td>\n",
       "      <td>297</td>\n",
       "      <td>8</td>\n",
       "      <td>39.80</td>\n",
       "      <td>514</td>\n",
       "      <td>no</td>\n",
       "      <td>0.0</td>\n",
       "      <td>Browser</td>\n",
       "      <td>3</td>\n",
       "      <td>android</td>\n",
       "    </tr>\n",
       "    <tr>\n",
       "      <th>2</th>\n",
       "      <td>U77095928</td>\n",
       "      <td>295</td>\n",
       "      <td>1</td>\n",
       "      <td>72.90</td>\n",
       "      <td>553</td>\n",
       "      <td>no</td>\n",
       "      <td>0.0</td>\n",
       "      <td>Browser</td>\n",
       "      <td>3</td>\n",
       "      <td>android</td>\n",
       "    </tr>\n",
       "    <tr>\n",
       "      <th>3</th>\n",
       "      <td>U43509181</td>\n",
       "      <td>277</td>\n",
       "      <td>1</td>\n",
       "      <td>40.00</td>\n",
       "      <td>554</td>\n",
       "      <td>no</td>\n",
       "      <td>0.0</td>\n",
       "      <td>Browser</td>\n",
       "      <td>3</td>\n",
       "      <td>android</td>\n",
       "    </tr>\n",
       "    <tr>\n",
       "      <th>4</th>\n",
       "      <td>U23195941</td>\n",
       "      <td>259</td>\n",
       "      <td>1</td>\n",
       "      <td>21.00</td>\n",
       "      <td>555</td>\n",
       "      <td>no</td>\n",
       "      <td>0.0</td>\n",
       "      <td>App</td>\n",
       "      <td>3</td>\n",
       "      <td>android</td>\n",
       "    </tr>\n",
       "    <tr>\n",
       "      <th>...</th>\n",
       "      <td>...</td>\n",
       "      <td>...</td>\n",
       "      <td>...</td>\n",
       "      <td>...</td>\n",
       "      <td>...</td>\n",
       "      <td>...</td>\n",
       "      <td>...</td>\n",
       "      <td>...</td>\n",
       "      <td>...</td>\n",
       "      <td>...</td>\n",
       "    </tr>\n",
       "    <tr>\n",
       "      <th>27873</th>\n",
       "      <td>U63704968</td>\n",
       "      <td>14</td>\n",
       "      <td>3</td>\n",
       "      <td>78.00</td>\n",
       "      <td>243</td>\n",
       "      <td>no</td>\n",
       "      <td>0.0</td>\n",
       "      <td>App</td>\n",
       "      <td>18</td>\n",
       "      <td>android</td>\n",
       "    </tr>\n",
       "    <tr>\n",
       "      <th>27874</th>\n",
       "      <td>U87740670</td>\n",
       "      <td>14</td>\n",
       "      <td>4</td>\n",
       "      <td>19.80</td>\n",
       "      <td>235</td>\n",
       "      <td>no</td>\n",
       "      <td>0.0</td>\n",
       "      <td>App</td>\n",
       "      <td>18</td>\n",
       "      <td>android</td>\n",
       "    </tr>\n",
       "    <tr>\n",
       "      <th>27875</th>\n",
       "      <td>U79814710</td>\n",
       "      <td>11</td>\n",
       "      <td>4</td>\n",
       "      <td>171.20</td>\n",
       "      <td>132</td>\n",
       "      <td>no</td>\n",
       "      <td>0.0</td>\n",
       "      <td>App</td>\n",
       "      <td>19</td>\n",
       "      <td>android</td>\n",
       "    </tr>\n",
       "    <tr>\n",
       "      <th>27876</th>\n",
       "      <td>U86467655</td>\n",
       "      <td>11</td>\n",
       "      <td>4</td>\n",
       "      <td>171.20</td>\n",
       "      <td>132</td>\n",
       "      <td>yes</td>\n",
       "      <td>209.0</td>\n",
       "      <td>App</td>\n",
       "      <td>19</td>\n",
       "      <td>android</td>\n",
       "    </tr>\n",
       "    <tr>\n",
       "      <th>27877</th>\n",
       "      <td>U37438731</td>\n",
       "      <td>11</td>\n",
       "      <td>8</td>\n",
       "      <td>68.48</td>\n",
       "      <td>113</td>\n",
       "      <td>no</td>\n",
       "      <td>0.0</td>\n",
       "      <td>App</td>\n",
       "      <td>19</td>\n",
       "      <td>android</td>\n",
       "    </tr>\n",
       "  </tbody>\n",
       "</table>\n",
       "<p>27878 rows × 10 columns</p>\n",
       "</div>"
      ],
      "text/plain": [
       "          userid  recency  frequency  monetary rfm_iq_pre buyer  ordersize  \\\n",
       "0      U12617430      309          7     39.80        514    no        0.0   \n",
       "1      U63302737      297          8     39.80        514    no        0.0   \n",
       "2      U77095928      295          1     72.90        553    no        0.0   \n",
       "3      U43509181      277          1     40.00        554    no        0.0   \n",
       "4      U23195941      259          1     21.00        555    no        0.0   \n",
       "...          ...      ...        ...       ...        ...   ...        ...   \n",
       "27873  U63704968       14          3     78.00        243    no        0.0   \n",
       "27874  U87740670       14          4     19.80        235    no        0.0   \n",
       "27875  U79814710       11          4    171.20        132    no        0.0   \n",
       "27876  U86467655       11          4    171.20        132   yes      209.0   \n",
       "27877  U37438731       11          8     68.48        113    no        0.0   \n",
       "\n",
       "      platform  category mobile_os  \n",
       "0          App         3   android  \n",
       "1      Browser         3   android  \n",
       "2      Browser         3   android  \n",
       "3      Browser         3   android  \n",
       "4          App         3   android  \n",
       "...        ...       ...       ...  \n",
       "27873      App        18   android  \n",
       "27874      App        18   android  \n",
       "27875      App        19   android  \n",
       "27876      App        19   android  \n",
       "27877      App        19   android  \n",
       "\n",
       "[27878 rows x 10 columns]"
      ]
     },
     "execution_count": 16,
     "metadata": {},
     "output_type": "execute_result"
    }
   ],
   "source": [
    "import numpy as np\n",
    "import pandas as pd\n",
    "import pyrsm as rsm\n",
    "import seaborn as sns\n",
    "\n",
    "tuango = pd.read_pickle(\"data/tuango.pkl\")\n",
    "\n",
    "tuango"
   ]
  },
  {
   "cell_type": "markdown",
   "metadata": {},
   "source": [
    "## Methodology\n",
    "\n",
    ":- Use a training sample set of 10% of the customer base (27878 people), to determine who would be targeted by the RFM method <br>\n",
    ":- Calculate projected profit on remaining 90% based on response observed in 10% training sample, comparing to 'non targeted/message everybody' approach <br>\n",
    ":- Calculate actual profit based on the response observed on the 90% test sample and compare to prediction <br>"
   ]
  },
  {
   "cell_type": "markdown",
   "metadata": {},
   "source": [
    "## Descriptive Analysis\n",
    "\n",
    "#### Percentage of customers who responded (i.e., bought anything) after the push message:"
   ]
  },
  {
   "cell_type": "code",
   "execution_count": 123,
   "metadata": {},
   "outputs": [
    {
     "data": {
      "text/plain": [
       "' 2.981% of the sampled customers responded by making a purchase after the push message'"
      ]
     },
     "execution_count": 123,
     "metadata": {},
     "output_type": "execute_result"
    }
   ],
   "source": [
    "res = np.mean(tuango.buyer == \"yes\")\n",
    "f\"\"\" {round((100*res), 3)}% of the sampled customers responded by making a purchase after the push message\"\"\""
   ]
  },
  {
   "cell_type": "markdown",
   "metadata": {},
   "source": [
    "#### Average amount spent on the Karaoke deal by customers that bought one (or more):"
   ]
  },
  {
   "cell_type": "code",
   "execution_count": 124,
   "metadata": {},
   "outputs": [
    {
     "data": {
      "text/plain": [
       "' Among the sampled customers, amount spent per customer (average) on the deal was  RMB 202.13'"
      ]
     },
     "execution_count": 124,
     "metadata": {},
     "output_type": "execute_result"
    }
   ],
   "source": [
    "res = np.mean(tuango[tuango.buyer == \"yes\"][\"ordersize\"])\n",
    "\n",
    "f\"\"\" Among the sampled customers, amount spent per customer (average) on the deal was  RMB {round(res, 2)}\"\"\""
   ]
  },
  {
   "cell_type": "markdown",
   "metadata": {},
   "source": [
    "#### \tCreating independent quintile variables for recency, frequency and monetary and assessing the 3 variables are not highly corrrelated: "
   ]
  },
  {
   "cell_type": "code",
   "execution_count": 125,
   "metadata": {},
   "outputs": [
    {
     "data": {
      "text/html": [
       "<div>\n",
       "<style scoped>\n",
       "    .dataframe tbody tr th:only-of-type {\n",
       "        vertical-align: middle;\n",
       "    }\n",
       "\n",
       "    .dataframe tbody tr th {\n",
       "        vertical-align: top;\n",
       "    }\n",
       "\n",
       "    .dataframe thead th {\n",
       "        text-align: right;\n",
       "    }\n",
       "</style>\n",
       "<table border=\"1\" class=\"dataframe\">\n",
       "  <thead>\n",
       "    <tr style=\"text-align: right;\">\n",
       "      <th></th>\n",
       "      <th>rec_iq</th>\n",
       "      <th>freq_iq</th>\n",
       "      <th>mon_iq</th>\n",
       "    </tr>\n",
       "  </thead>\n",
       "  <tbody>\n",
       "    <tr>\n",
       "      <th>rec_iq</th>\n",
       "      <td>1.000</td>\n",
       "      <td>-0.026</td>\n",
       "      <td>-0.092</td>\n",
       "    </tr>\n",
       "    <tr>\n",
       "      <th>freq_iq</th>\n",
       "      <td>-0.026</td>\n",
       "      <td>1.000</td>\n",
       "      <td>0.049</td>\n",
       "    </tr>\n",
       "    <tr>\n",
       "      <th>mon_iq</th>\n",
       "      <td>-0.092</td>\n",
       "      <td>0.049</td>\n",
       "      <td>1.000</td>\n",
       "    </tr>\n",
       "  </tbody>\n",
       "</table>\n",
       "</div>"
      ],
      "text/plain": [
       "         rec_iq  freq_iq  mon_iq\n",
       "rec_iq    1.000   -0.026  -0.092\n",
       "freq_iq  -0.026    1.000   0.049\n",
       "mon_iq   -0.092    0.049   1.000"
      ]
     },
     "execution_count": 125,
     "metadata": {},
     "output_type": "execute_result"
    }
   ],
   "source": [
    "tuango = tuango.assign(rec_iq=rsm.xtile(tuango[\"recency\"], 5))\n",
    "tuango = tuango.assign(freq_iq=rsm.xtile(tuango[\"frequency\"], 5, rev=True))\n",
    "tuango = tuango.assign(mon_iq=rsm.xtile(tuango[\"monetary\"], 5, rev=True))\n",
    "\n",
    "# Number of customer per bin\n",
    "\n",
    "pd.DataFrame(\n",
    "    {\n",
    "        \"#cust_rec_iq\": tuango[\"rec_iq\"].value_counts(),\n",
    "        \"#cust_freq_iq\": tuango[\"freq_iq\"].value_counts(),\n",
    "        \"#cust_mon_iq\": tuango[\"mon_iq\"].value_counts(),\n",
    "    }\n",
    ")\n",
    "\n",
    "# Correlation between RFM Variables: to check if all 3 feature variables are necessary to be included in model\n",
    "\n",
    "tuango[[\"recency\", \"frequency\", \"monetary\"]].corr().round(3)\n",
    "\n",
    "tuango[[\"rec_iq\", \"freq_iq\", \"mon_iq\"]].corr().round(3)"
   ]
  },
  {
   "cell_type": "markdown",
   "metadata": {},
   "source": [
    "#### \tBar charts showing the response rate (i.e., the proportion of customers who bought something) for this deal per (independent) recency, frequency, and monetary quintile"
   ]
  },
  {
   "cell_type": "code",
   "execution_count": 8,
   "metadata": {
    "jupyter": {
     "source_hidden": true
    }
   },
   "outputs": [
    {
     "data": {
      "image/png": "[encoded data removed]",
      "text/plain": [
       "<Figure size 432x288 with 1 Axes>"
      ]
     },
     "metadata": {
      "needs_background": "light"
     },
     "output_type": "display_data"
    }
   ],
   "source": [
    "graph_rec_iq = rsm.prop_plot(tuango, \"rec_iq\", \"buyer\", \"yes\")\n",
    "\n",
    "graph_rec_iq = graph_rec_iq.set(xlabel=\"Recency qunitlies (rec_iq)\")"
   ]
  },
  {
   "cell_type": "code",
   "execution_count": 9,
   "metadata": {
    "jupyter": {
     "source_hidden": true
    }
   },
   "outputs": [
    {
     "data": {
      "image/png": "[encoded data removed]",
      "text/plain": [
       "<Figure size 432x288 with 1 Axes>"
      ]
     },
     "metadata": {
      "needs_background": "light"
     },
     "output_type": "display_data"
    }
   ],
   "source": [
    "graph_freq_iq = rsm.prop_plot(tuango, \"freq_iq\", \"buyer\", \"yes\")\n",
    "\n",
    "graph_freq_iq = graph_freq_iq.set(xlabel=\"Frequency quintlies (freq_iq)\")"
   ]
  },
  {
   "cell_type": "code",
   "execution_count": 10,
   "metadata": {
    "jupyter": {
     "source_hidden": true
    }
   },
   "outputs": [
    {
     "data": {
      "image/png": "[encoded data removed]",
      "text/plain": [
       "<Figure size 432x288 with 1 Axes>"
      ]
     },
     "metadata": {
      "needs_background": "light"
     },
     "output_type": "display_data"
    }
   ],
   "source": [
    "graph_mon_iq = rsm.prop_plot(tuango, \"mon_iq\", \"buyer\", \"yes\")\n",
    "\n",
    "graph_mon_iq = graph_mon_iq.set(xlabel=\"Monetary qunitlies (mon_iq)\")"
   ]
  },
  {
   "cell_type": "markdown",
   "metadata": {},
   "source": [
    "## Profitability Analysis"
   ]
  },
  {
   "cell_type": "markdown",
   "metadata": {},
   "source": [
    "#### Breakeven response rate "
   ]
  },
  {
   "cell_type": "code",
   "execution_count": 17,
   "metadata": {},
   "outputs": [
    {
     "name": "stdout",
     "output_type": "stream",
     "text": [
      "Likelihood of making a purchase upon seeing message (aka break even response rate) has to be > (cost of messaging deal / expected profit per customer)\n",
      "\n",
      " Breakeven response rate is 2.474%\n"
     ]
    }
   ],
   "source": [
    "Exp_prof_percust = 0.5 * np.mean(tuango[tuango.buyer == \"yes\"][\"ordersize\"])\n",
    "\n",
    "Marg_cost_percust = 2.5\n",
    "\n",
    "brk_even_rate = Marg_cost_percust / Exp_prof_percust\n",
    "\n",
    "print(f\"\"\"Likelihood of making a purchase upon seeing message (aka break even response rate) has to be > (cost of messaging deal / expected profit per customer)\"\"\") \n",
    "print('\\n',f\"\"\"Breakeven response rate is {round(100*brk_even_rate, 3)}%\"\"\")"
   ]
  },
  {
   "cell_type": "markdown",
   "metadata": {},
   "source": [
    "### Comparison of approaches\n",
    "\n",
    "1.) No targeting /message everybody approach <br>\n",
    "2.) RFM with independent quintiles (people are categorised on the 3 variables (recency, frequency, monetary) independently on the 1-5 scale, where 1:best, 5:worst) <br>\n",
    "3.) RFM with sequential quintiles (within the people in each quintile of the first variable (Recency), binning takes place wrt. the second variable (frequency) and the same goes with monetary <br>\n",
    "4.) RFM with sequential quintiles with a specific breakeven response rate applied to each bin based on bin's average spending <br>\n",
    "5.) Conservative estimate on independent quintiles <br>\n",
    "6.) Conservative estimate on sequential quintiles"
   ]
  },
  {
   "cell_type": "code",
   "execution_count": 127,
   "metadata": {},
   "outputs": [],
   "source": [
    "# no targeting/everybody gets messaged approach:\n",
    "\n",
    "sample_resp = pd.DataFrame(\n",
    "    {\n",
    "        \"n_obs\": tuango[\"buyer\"].value_counts(),\n",
    "        \"resp\": tuango.groupby(\"buyer\")[\"buyer\"]\n",
    "        .agg(\"count\")\n",
    "        .agg(lambda x: x / x.sum()),\n",
    "    }\n",
    ")\n",
    "\n",
    "Proj_Profit = (\n",
    "    250902 * sample_resp.loc[\"yes\", \"resp\"] * Exp_prof_percust\n",
    "    - 250902 * Marg_cost_percust\n",
    ")\n",
    "\n",
    "ROME = Proj_Profit / (250902 * Marg_cost_percust)"
   ]
  },
  {
   "cell_type": "code",
   "execution_count": 128,
   "metadata": {},
   "outputs": [],
   "source": [
    "# function definition for the other 5 methods\n",
    "\n",
    "tuango = pd.read_pickle(\"data/tuango.pkl\")\n",
    "\n",
    "def perf_calc(\n",
    "    method=\"iq\",\n",
    "    tuango=tuango,\n",
    "    Exp_prof_percust=Exp_prof_percust,\n",
    "    Marg_cost_percust=Marg_cost_percust,\n",
    "    brk_even_rate=\"avg\",\n",
    "    cons_est=\"no\",\n",
    "):\n",
    "\n",
    "    if method == \"iq\":\n",
    "\n",
    "        tuango = tuango.assign(rec=rsm.xtile(tuango[\"recency\"], 5))\n",
    "        tuango = tuango.assign(freq=rsm.xtile(tuango[\"frequency\"], 5, rev=True))\n",
    "        tuango = tuango.assign(mon=rsm.xtile(tuango[\"monetary\"], 5, rev=True))\n",
    "        tuango = tuango.assign(\n",
    "            rfm=tuango.rec.astype(str)\n",
    "            + tuango.freq.astype(str)\n",
    "            + tuango.mon.astype(str)\n",
    "        )\n",
    "\n",
    "    elif method == \"sq\":\n",
    "\n",
    "        tuango = tuango.assign(rec=rsm.xtile(tuango[\"recency\"], 5))\n",
    "        tuango = tuango.assign(\n",
    "            freq=tuango.groupby(\"rec\")[\"frequency\"].transform(rsm.xtile, 5, rev=True)\n",
    "        )\n",
    "        tuango = tuango.assign(\n",
    "            mon=tuango.groupby([\"rec\", \"freq\"])[\"monetary\"].transform(\n",
    "                rsm.xtile, 5, rev=True\n",
    "            )\n",
    "        )\n",
    "        tuango = tuango.assign(\n",
    "            rfm=tuango.rec.astype(str)\n",
    "            + tuango.freq.astype(str)\n",
    "            + tuango.mon.astype(str)\n",
    "        )\n",
    "\n",
    "    if cons_est == \"no\":\n",
    "        prop_series = tuango.groupby(\"rfm\")[\"buyer\"].transform(\n",
    "            lambda x: np.nanmean(x == \"yes\")\n",
    "        )\n",
    "\n",
    "    elif cons_est == \"yes\":\n",
    "        prop_series = tuango.groupby(\"rfm\")[\"buyer\"].transform(\n",
    "            lambda x: np.nanmean(x == \"yes\") - 1.64 * rsm.seprop(x == \"yes\")\n",
    "        )\n",
    "\n",
    "    if brk_even_rate == \"avg\":\n",
    "\n",
    "        brk_even_rate = Marg_cost_percust / Exp_prof_percust\n",
    "\n",
    "        tuango = tuango.assign(\n",
    "            rfm_resp=prop_series, mailto=(prop_series > brk_even_rate).astype(str)\n",
    "        )\n",
    "\n",
    "    elif brk_even_rate == \"indv\":\n",
    "\n",
    "        # for those RFM_index groups, where no buyers made a purchase, that break even rate was coded as 0 and those customers were not selected to be mailed.\n",
    "        # Rationale: those RFM groups are not likely to generate revenue if targeted.\n",
    "\n",
    "        tuango[\"buyer_dummy\"] = rsm.ifelse(tuango[\"buyer\"] == \"yes\", 1, 0)\n",
    "        temp = tuango.groupby(\"rfm_iq_pre\")[[\"ordersize\", \"buyer_dummy\"]].transform(sum)\n",
    "        temp[\"avg\"] = Marg_cost_percust / (\n",
    "            0.5 * (temp[\"ordersize\"] / temp[\"buyer_dummy\"])\n",
    "        )\n",
    "        temp = temp.fillna(0)\n",
    "\n",
    "        tuango = tuango.assign(\n",
    "            rfm_resp=prop_series, mailto=(prop_series > temp[\"avg\"]).astype(str)\n",
    "        )\n",
    "\n",
    "    nmail = pd.DataFrame()\n",
    "    nmail[\"n_obs\"] = tuango[\"mailto\"].value_counts()\n",
    "    nmail[\"perc\"] = (\n",
    "        tuango.groupby(\"mailto\")[\"mailto\"].agg(\"count\").agg(lambda x: x / x.sum())\n",
    "    )\n",
    "\n",
    "    resp = pd.DataFrame()\n",
    "    resp[\"n_obs\"] = tuango[\"mailto\"].value_counts()\n",
    "    resp[\"n_buyers\"] = (\n",
    "        tuango[tuango.buyer == \"yes\"].groupby(\"mailto\")[\"buyer\"].agg(\"count\")\n",
    "    )\n",
    "    resp[\"perc\"] = np.array(resp[\"n_buyers\"]) / np.array(resp[\"n_obs\"])\n",
    "\n",
    "    Exp_Profit = (\n",
    "        250902 * nmail.loc[\"True\", \"perc\"] * resp.perc[1] * Exp_prof_percust\n",
    "        - 250902 * nmail.loc[\"True\", \"perc\"] * Marg_cost_percust\n",
    "    )\n",
    "\n",
    "    ROME = Exp_Profit / (Marg_cost_percust * 250902 * nmail.loc[\"True\", \"perc\"])\n",
    "\n",
    "    return Exp_Profit, ROME, tuango"
   ]
  },
  {
   "cell_type": "code",
   "execution_count": 129,
   "metadata": {},
   "outputs": [
    {
     "data": {
      "text/html": [
       "<div>\n",
       "<style scoped>\n",
       "    .dataframe tbody tr th:only-of-type {\n",
       "        vertical-align: middle;\n",
       "    }\n",
       "\n",
       "    .dataframe tbody tr th {\n",
       "        vertical-align: top;\n",
       "    }\n",
       "\n",
       "    .dataframe thead th {\n",
       "        text-align: right;\n",
       "    }\n",
       "</style>\n",
       "<table border=\"1\" class=\"dataframe\">\n",
       "  <thead>\n",
       "    <tr style=\"text-align: right;\">\n",
       "      <th></th>\n",
       "      <th>Expected_profit_RMB</th>\n",
       "      <th>ROME</th>\n",
       "      <th>Models</th>\n",
       "    </tr>\n",
       "  </thead>\n",
       "  <tbody>\n",
       "    <tr>\n",
       "      <th>0</th>\n",
       "      <td>128605.500000</td>\n",
       "      <td>0.205029</td>\n",
       "      <td>No targeting</td>\n",
       "    </tr>\n",
       "    <tr>\n",
       "      <th>1</th>\n",
       "      <td>331967.371841</td>\n",
       "      <td>1.188697</td>\n",
       "      <td>Indep. Quintile</td>\n",
       "    </tr>\n",
       "    <tr>\n",
       "      <th>2</th>\n",
       "      <td>336439.521661</td>\n",
       "      <td>1.297316</td>\n",
       "      <td>Seq. Quintile</td>\n",
       "    </tr>\n",
       "    <tr>\n",
       "      <th>3</th>\n",
       "      <td>324655.759928</td>\n",
       "      <td>1.185535</td>\n",
       "      <td>Seq. Quint w. indv. brk_resp</td>\n",
       "    </tr>\n",
       "    <tr>\n",
       "      <th>4</th>\n",
       "      <td>280372.375451</td>\n",
       "      <td>2.058308</td>\n",
       "      <td>Indep. Quintile_conservative</td>\n",
       "    </tr>\n",
       "    <tr>\n",
       "      <th>5</th>\n",
       "      <td>279385.272563</td>\n",
       "      <td>1.970972</td>\n",
       "      <td>Seq. Quintile_conservative</td>\n",
       "    </tr>\n",
       "  </tbody>\n",
       "</table>\n",
       "</div>"
      ],
      "text/plain": [
       "   Expected_profit_RMB      ROME                        Models\n",
       "0        128605.500000  0.205029                  No targeting\n",
       "1        331967.371841  1.188697               Indep. Quintile\n",
       "2        336439.521661  1.297316                 Seq. Quintile\n",
       "3        324655.759928  1.185535  Seq. Quint w. indv. brk_resp\n",
       "4        280372.375451  2.058308  Indep. Quintile_conservative\n",
       "5        279385.272563  1.970972    Seq. Quintile_conservative"
      ]
     },
     "execution_count": 129,
     "metadata": {},
     "output_type": "execute_result"
    }
   ],
   "source": [
    "res1 = perf_calc(\n",
    "    method=\"iq\",\n",
    "    tuango=tuango,\n",
    "    Exp_prof_percust=Exp_prof_percust,\n",
    "    Marg_cost_percust=Marg_cost_percust,\n",
    "    brk_even_rate=\"avg\",\n",
    "    cons_est=\"no\",\n",
    ")\n",
    "res2 = perf_calc(\n",
    "    method=\"sq\",\n",
    "    tuango=tuango,\n",
    "    Exp_prof_percust=Exp_prof_percust,\n",
    "    Marg_cost_percust=Marg_cost_percust,\n",
    "    brk_even_rate=\"avg\",\n",
    "    cons_est=\"no\",\n",
    ")\n",
    "res3 = perf_calc(\n",
    "    method=\"sq\",\n",
    "    tuango=tuango,\n",
    "    Exp_prof_percust=Exp_prof_percust,\n",
    "    Marg_cost_percust=Marg_cost_percust,\n",
    "    brk_even_rate=\"indv\",\n",
    "    cons_est=\"no\",\n",
    ")\n",
    "res4 = perf_calc(\n",
    "    method=\"iq\",\n",
    "    tuango=tuango,\n",
    "    Exp_prof_percust=Exp_prof_percust,\n",
    "    Marg_cost_percust=Marg_cost_percust,\n",
    "    brk_even_rate=\"avg\",\n",
    "    cons_est=\"yes\",\n",
    ")\n",
    "res5 = perf_calc(\n",
    "    method=\"sq\",\n",
    "    tuango=tuango,\n",
    "    Exp_prof_percust=Exp_prof_percust,\n",
    "    Marg_cost_percust=Marg_cost_percust,\n",
    "    brk_even_rate=\"avg\",\n",
    "    cons_est=\"yes\",\n",
    ")\n",
    "\n",
    "df = pd.DataFrame(\n",
    "    {\n",
    "        \"Expected_profit_RMB\": [\n",
    "            Proj_Profit,\n",
    "            res1[0],\n",
    "            res2[0],\n",
    "            res3[0],\n",
    "            res4[0],\n",
    "            res5[0],\n",
    "        ],\n",
    "        \"ROME\": [ROME, res1[1], res2[1], res3[1], res4[1], res5[1]],\n",
    "        \"Models\": [\n",
    "            \"No targeting\",\n",
    "            \"Indep. Quintile\",\n",
    "            \"Seq. Quintile\",\n",
    "            \"Seq. Quint w. indv. brk_resp\",\n",
    "            \"Indep. Quintile_conservative\",\n",
    "            \"Seq. Quintile_conservative\",\n",
    "        ],\n",
    "    }\n",
    ")\n",
    "\n",
    "df"
   ]
  },
  {
   "cell_type": "code",
   "execution_count": 111,
   "metadata": {},
   "outputs": [
    {
     "data": {
      "image/png": "[encoded data removed]",
      "text/plain": [
       "<Figure size 432x288 with 1 Axes>"
      ]
     },
     "metadata": {
      "needs_background": "light"
     },
     "output_type": "display_data"
    }
   ],
   "source": [
    "plot = sns.barplot(x=df.Models, y=df.Expected_profit_RMB, ci=None, data=df)\n",
    "a = plot.get_xticklabels()\n",
    "for i in a:\n",
    "    i.set_rotation(90)"
   ]
  },
  {
   "cell_type": "code",
   "execution_count": 112,
   "metadata": {},
   "outputs": [
    {
     "data": {
      "image/png": "[encoded data removed]",
      "text/plain": [
       "<Figure size 432x288 with 1 Axes>"
      ]
     },
     "metadata": {
      "needs_background": "light"
     },
     "output_type": "display_data"
    }
   ],
   "source": [
    "plot = sns.barplot(x=df.Models, y=df.ROME, ci=None, data=df)\n",
    "a = plot.get_xticklabels()\n",
    "for i in a:\n",
    "    i.set_rotation(90)"
   ]
  },
  {
   "cell_type": "markdown",
   "metadata": {},
   "source": [
    "### Performance of model against actual results"
   ]
  },
  {
   "cell_type": "code",
   "execution_count": 131,
   "metadata": {},
   "outputs": [],
   "source": [
    "tuango_post = pd.read_pickle(\"data/tuango_post.pkl\")\n",
    "\n",
    "# Focusing analyses on remaining 250902 customers:\n",
    "\n",
    "tuango = tuango_post[tuango_post[\"training\"] == 0]"
   ]
  },
  {
   "cell_type": "code",
   "execution_count": 132,
   "metadata": {},
   "outputs": [],
   "source": [
    "indep_quintile = res1[2]['rfm'][res1[2].mailto == 'True']\n",
    "seq_quintile = res2[2]['rfm'][res2[2].mailto == 'True']\n",
    "seq_quintile_indv_brk_resp = res3[2]['rfm'][res3[2].mailto == 'True']\n",
    "indep_quintile_conservative = res4[2]['rfm'][res4[2].mailto == 'True']\n",
    "seq_quintile_conservative = res5[2]['rfm'][res5[2].mailto == 'True']"
   ]
  },
  {
   "cell_type": "code",
   "execution_count": 133,
   "metadata": {},
   "outputs": [],
   "source": [
    "# Actual revenue from remaining 250902 customers, no targeting\n",
    "\n",
    "Actual_Profit = 0.5 * sum(tuango[\"ordersize\"]) - len(tuango) * Marg_cost_percust\n",
    "\n",
    "Actual_ROME = Actual_Profit / (len(tuango) * Marg_cost_percust)"
   ]
  },
  {
   "cell_type": "code",
   "execution_count": 134,
   "metadata": {},
   "outputs": [],
   "source": [
    "def perf_actual(method, tuango, target_id, Marg_cost_percust):\n",
    "    \n",
    "    tuango = tuango[tuango[\"training\"] == 0]\n",
    "    \n",
    "    if method == \"iq\":\n",
    "\n",
    "        tuango = tuango.assign(rec=rsm.xtile(tuango[\"recency\"], 5))\n",
    "        tuango = tuango.assign(freq=rsm.xtile(tuango[\"frequency\"], 5, rev=True))\n",
    "        tuango = tuango.assign(mon=rsm.xtile(tuango[\"monetary\"], 5, rev=True))\n",
    "        tuango = tuango.assign(\n",
    "            rfm=tuango.rec.astype(str)\n",
    "            + tuango.freq.astype(str)\n",
    "            + tuango.mon.astype(str)\n",
    "        )\n",
    "\n",
    "    elif method == \"sq\":\n",
    "\n",
    "        tuango = tuango.assign(rec=rsm.xtile(tuango[\"recency\"], 5))\n",
    "        tuango = tuango.assign(\n",
    "            freq=tuango.groupby(\"rec\")[\"frequency\"].transform(rsm.xtile, 5, rev=True)\n",
    "        )\n",
    "        tuango = tuango.assign(\n",
    "            mon=tuango.groupby([\"rec\", \"freq\"])[\"monetary\"].transform(\n",
    "                rsm.xtile, 5, rev=True\n",
    "            )\n",
    "        )\n",
    "        tuango = tuango.assign(\n",
    "            rfm=tuango.rec.astype(str)\n",
    "            + tuango.freq.astype(str)\n",
    "            + tuango.mon.astype(str)\n",
    "        )\n",
    "    \n",
    "    tuango[\"mailto\"] = rsm.ifelse(tuango[\"rfm\"].isin(target_id), \"True\", \"False\")\n",
    "\n",
    "    Actual_Profit = (\n",
    "        0.5 * sum(tuango[tuango[\"mailto\"] == \"True\"][\"ordersize\"])\n",
    "        - len(tuango[tuango[\"mailto\"] == \"True\"]) * Marg_cost_percust\n",
    "    )\n",
    "\n",
    "    Actual_ROME = Actual_Profit / (\n",
    "        len(tuango[tuango[\"mailto\"] == \"True\"]) * Marg_cost_percust\n",
    "    )\n",
    "\n",
    "    return Actual_Profit, Actual_ROME, tuango"
   ]
  },
  {
   "cell_type": "code",
   "execution_count": 135,
   "metadata": {},
   "outputs": [
    {
     "data": {
      "text/html": [
       "<div>\n",
       "<style scoped>\n",
       "    .dataframe tbody tr th:only-of-type {\n",
       "        vertical-align: middle;\n",
       "    }\n",
       "\n",
       "    .dataframe tbody tr th {\n",
       "        vertical-align: top;\n",
       "    }\n",
       "\n",
       "    .dataframe thead th {\n",
       "        text-align: right;\n",
       "    }\n",
       "</style>\n",
       "<table border=\"1\" class=\"dataframe\">\n",
       "  <thead>\n",
       "    <tr style=\"text-align: right;\">\n",
       "      <th></th>\n",
       "      <th>Actual_profit_RMB</th>\n",
       "      <th>ROME</th>\n",
       "      <th>Models</th>\n",
       "    </tr>\n",
       "  </thead>\n",
       "  <tbody>\n",
       "    <tr>\n",
       "      <th>0</th>\n",
       "      <td>124492.5</td>\n",
       "      <td>0.198472</td>\n",
       "      <td>No targeting</td>\n",
       "    </tr>\n",
       "    <tr>\n",
       "      <th>1</th>\n",
       "      <td>330636.0</td>\n",
       "      <td>1.184481</td>\n",
       "      <td>Indep. Quintile</td>\n",
       "    </tr>\n",
       "    <tr>\n",
       "      <th>2</th>\n",
       "      <td>341348.0</td>\n",
       "      <td>1.320265</td>\n",
       "      <td>Seq. Quintile</td>\n",
       "    </tr>\n",
       "    <tr>\n",
       "      <th>3</th>\n",
       "      <td>314344.0</td>\n",
       "      <td>1.017649</td>\n",
       "      <td>Seq. Quint w. indv. brk_resp</td>\n",
       "    </tr>\n",
       "    <tr>\n",
       "      <th>4</th>\n",
       "      <td>285943.0</td>\n",
       "      <td>2.100784</td>\n",
       "      <td>Indep. Quintile_conservative</td>\n",
       "    </tr>\n",
       "    <tr>\n",
       "      <th>5</th>\n",
       "      <td>283871.5</td>\n",
       "      <td>2.015453</td>\n",
       "      <td>Seq. Quintile_conservative</td>\n",
       "    </tr>\n",
       "  </tbody>\n",
       "</table>\n",
       "</div>"
      ],
      "text/plain": [
       "   Actual_profit_RMB      ROME                        Models\n",
       "0           124492.5  0.198472                  No targeting\n",
       "1           330636.0  1.184481               Indep. Quintile\n",
       "2           341348.0  1.320265                 Seq. Quintile\n",
       "3           314344.0  1.017649  Seq. Quint w. indv. brk_resp\n",
       "4           285943.0  2.100784  Indep. Quintile_conservative\n",
       "5           283871.5  2.015453    Seq. Quintile_conservative"
      ]
     },
     "execution_count": 135,
     "metadata": {},
     "output_type": "execute_result"
    }
   ],
   "source": [
    "res1 = perf_actual(\n",
    "    method=\"iq\",\n",
    "    tuango=tuango_post,\n",
    "    target_id=indep_quintile,\n",
    "    Marg_cost_percust=Marg_cost_percust,\n",
    ")\n",
    "res2 = perf_actual(\n",
    "    method=\"sq\",\n",
    "    tuango=tuango_post,\n",
    "    target_id=seq_quintile,\n",
    "    Marg_cost_percust=Marg_cost_percust,\n",
    ")\n",
    "res3 = perf_actual(\n",
    "    method=\"sq\",\n",
    "    tuango=tuango_post,\n",
    "    target_id=seq_quintile_indv_brk_resp,\n",
    "    Marg_cost_percust=Marg_cost_percust,\n",
    "\n",
    ")\n",
    "res4 = perf_actual(\n",
    "    method=\"iq\",\n",
    "    tuango=tuango_post,\n",
    "    target_id=indep_quintile_conservative,\n",
    "    Marg_cost_percust=Marg_cost_percust,\n",
    "\n",
    ")\n",
    "res5 = perf_actual(\n",
    "    method=\"sq\",\n",
    "    tuango=tuango_post,\n",
    "    target_id=seq_quintile_conservative,\n",
    "    Marg_cost_percust=Marg_cost_percust,\n",
    "\n",
    ")\n",
    "\n",
    "\n",
    "df = pd.DataFrame(\n",
    "    {\n",
    "        \"Actual_profit_RMB\": [\n",
    "            Actual_Profit,\n",
    "            res1[0],\n",
    "            res2[0],\n",
    "            res3[0],\n",
    "            res4[0],\n",
    "            res5[0],\n",
    "        ],\n",
    "        \"ROME\": [Actual_ROME, res1[1], res2[1], res3[1], res4[1], res5[1]],\n",
    "        \"Models\": [\n",
    "            \"No targeting\",\n",
    "            \"Indep. Quintile\",\n",
    "            \"Seq. Quintile\",\n",
    "            \"Seq. Quint w. indv. brk_resp\",\n",
    "            \"Indep. Quintile_conservative\",\n",
    "            \"Seq. Quintile_conservative\",\n",
    "        ],\n",
    "    }\n",
    ")\n",
    "\n",
    "df"
   ]
  },
  {
   "cell_type": "code",
   "execution_count": 136,
   "metadata": {},
   "outputs": [
    {
     "data": {
      "image/png": "[encoded data removed]",
      "text/plain": [
       "<Figure size 432x288 with 1 Axes>"
      ]
     },
     "metadata": {
      "needs_background": "light"
     },
     "output_type": "display_data"
    }
   ],
   "source": [
    "plot = sns.barplot(x=df.Models, y=df.Actual_profit_RMB, ci=None, data=df)\n",
    "a = plot.get_xticklabels()\n",
    "for i in a:\n",
    "    i.set_rotation(90)"
   ]
  },
  {
   "cell_type": "code",
   "execution_count": 137,
   "metadata": {},
   "outputs": [
    {
     "data": {
      "image/png": "[encoded data removed]",
      "text/plain": [
       "<Figure size 432x288 with 1 Axes>"
      ]
     },
     "metadata": {
      "needs_background": "light"
     },
     "output_type": "display_data"
    }
   ],
   "source": [
    "plot = sns.barplot(x=df.Models, y=df.ROME, ci=None, data=df)\n",
    "a = plot.get_xticklabels()\n",
    "for i in a:\n",
    "    i.set_rotation(90)"
   ]
  },
  {
   "cell_type": "markdown",
   "metadata": {},
   "source": [
    "### Summary\n",
    "\n",
    "Sequential method is preferable for the equitable distribution of customers in every bin over the independent quantile method which normally results in not all bins receiving similar number of people.\n",
    "\n",
    "Because there is a standard error associated with the response rate calculated from the sample, a conservative response rate was evaluated (lower bound of a one sided 95% CI) when reporting out projected profits and ROME.\n",
    "\n",
    "Projected profits and ROME match well to the actual profits and ROME from the purchasing behaviour actually displayed by the 250902 customers."
   ]
  }
 ],
 "metadata": {
  "kernelspec": {
   "display_name": "Python 3",
   "language": "python",
   "name": "python3"
  },
  "language_info": {
   "codemirror_mode": {
    "name": "ipython",
    "version": 3
   },
   "file_extension": ".py",
   "mimetype": "text/x-python",
   "name": "python",
   "nbconvert_exporter": "python",
   "pygments_lexer": "ipython3",
   "version": "3.8.5"
  }
 },
 "nbformat": 4,
 "nbformat_minor": 4
}
